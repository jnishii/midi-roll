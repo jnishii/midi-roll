{
 "cells": [
  {
   "cell_type": "code",
   "execution_count": 9,
   "id": "d0e9673d-b543-4a0e-9549-fd2e2568a1fb",
   "metadata": {},
   "outputs": [],
   "source": [
    "import numpy as np\n",
    "import pandas as pd"
   ]
  },
  {
   "cell_type": "code",
   "execution_count": 10,
   "id": "fff662a0-cdbc-4d0c-8bc1-b6c92ec983bc",
   "metadata": {},
   "outputs": [],
   "source": [
    "sr = 10   # down sampling rate from MIDI to time axis"
   ]
  },
  {
   "cell_type": "markdown",
   "id": "4c342296-41b2-42eb-859f-25a769180738",
   "metadata": {},
   "source": [
    "# load csv data and extract note_on"
   ]
  },
  {
   "cell_type": "code",
   "execution_count": 35,
   "id": "b5ce04a7-ecc3-4d45-b8e9-1c330f516686",
   "metadata": {},
   "outputs": [
    {
     "data": {
      "text/html": [
       "<div>\n",
       "<style scoped>\n",
       "    .dataframe tbody tr th:only-of-type {\n",
       "        vertical-align: middle;\n",
       "    }\n",
       "\n",
       "    .dataframe tbody tr th {\n",
       "        vertical-align: top;\n",
       "    }\n",
       "\n",
       "    .dataframe thead th {\n",
       "        text-align: right;\n",
       "    }\n",
       "</style>\n",
       "<table border=\"1\" class=\"dataframe\">\n",
       "  <thead>\n",
       "    <tr style=\"text-align: right;\">\n",
       "      <th></th>\n",
       "      <th>type</th>\n",
       "      <th>time</th>\n",
       "      <th>control</th>\n",
       "      <th>value</th>\n",
       "      <th>channel</th>\n",
       "      <th>time_counter</th>\n",
       "      <th>note</th>\n",
       "      <th>velocity</th>\n",
       "      <th>note_name</th>\n",
       "    </tr>\n",
       "  </thead>\n",
       "  <tbody>\n",
       "    <tr>\n",
       "      <th>73</th>\n",
       "      <td>note_on</td>\n",
       "      <td>383</td>\n",
       "      <td>NaN</td>\n",
       "      <td>NaN</td>\n",
       "      <td>0</td>\n",
       "      <td>49825</td>\n",
       "      <td>60.0</td>\n",
       "      <td>38.0</td>\n",
       "      <td>C</td>\n",
       "    </tr>\n",
       "    <tr>\n",
       "      <th>74</th>\n",
       "      <td>control_change</td>\n",
       "      <td>19</td>\n",
       "      <td>64.0</td>\n",
       "      <td>75.0</td>\n",
       "      <td>0</td>\n",
       "      <td>49844</td>\n",
       "      <td>NaN</td>\n",
       "      <td>NaN</td>\n",
       "      <td>NaN</td>\n",
       "    </tr>\n",
       "    <tr>\n",
       "      <th>75</th>\n",
       "      <td>control_change</td>\n",
       "      <td>365</td>\n",
       "      <td>64.0</td>\n",
       "      <td>71.0</td>\n",
       "      <td>0</td>\n",
       "      <td>50209</td>\n",
       "      <td>NaN</td>\n",
       "      <td>NaN</td>\n",
       "      <td>NaN</td>\n",
       "    </tr>\n",
       "    <tr>\n",
       "      <th>76</th>\n",
       "      <td>control_change</td>\n",
       "      <td>384</td>\n",
       "      <td>64.0</td>\n",
       "      <td>71.0</td>\n",
       "      <td>0</td>\n",
       "      <td>50593</td>\n",
       "      <td>NaN</td>\n",
       "      <td>NaN</td>\n",
       "      <td>NaN</td>\n",
       "    </tr>\n",
       "    <tr>\n",
       "      <th>77</th>\n",
       "      <td>control_change</td>\n",
       "      <td>384</td>\n",
       "      <td>64.0</td>\n",
       "      <td>73.0</td>\n",
       "      <td>0</td>\n",
       "      <td>50977</td>\n",
       "      <td>NaN</td>\n",
       "      <td>NaN</td>\n",
       "      <td>NaN</td>\n",
       "    </tr>\n",
       "    <tr>\n",
       "      <th>78</th>\n",
       "      <td>control_change</td>\n",
       "      <td>384</td>\n",
       "      <td>64.0</td>\n",
       "      <td>75.0</td>\n",
       "      <td>0</td>\n",
       "      <td>51361</td>\n",
       "      <td>NaN</td>\n",
       "      <td>NaN</td>\n",
       "      <td>NaN</td>\n",
       "    </tr>\n",
       "    <tr>\n",
       "      <th>79</th>\n",
       "      <td>control_change</td>\n",
       "      <td>384</td>\n",
       "      <td>64.0</td>\n",
       "      <td>79.0</td>\n",
       "      <td>0</td>\n",
       "      <td>51745</td>\n",
       "      <td>NaN</td>\n",
       "      <td>NaN</td>\n",
       "      <td>NaN</td>\n",
       "    </tr>\n",
       "  </tbody>\n",
       "</table>\n",
       "</div>"
      ],
      "text/plain": [
       "              type  time  control  value  channel  time_counter  note  \\\n",
       "73         note_on   383      NaN    NaN        0         49825  60.0   \n",
       "74  control_change    19     64.0   75.0        0         49844   NaN   \n",
       "75  control_change   365     64.0   71.0        0         50209   NaN   \n",
       "76  control_change   384     64.0   71.0        0         50593   NaN   \n",
       "77  control_change   384     64.0   73.0        0         50977   NaN   \n",
       "78  control_change   384     64.0   75.0        0         51361   NaN   \n",
       "79  control_change   384     64.0   79.0        0         51745   NaN   \n",
       "\n",
       "    velocity note_name  \n",
       "73      38.0         C  \n",
       "74       NaN       NaN  \n",
       "75       NaN       NaN  \n",
       "76       NaN       NaN  \n",
       "77       NaN       NaN  \n",
       "78       NaN       NaN  \n",
       "79       NaN       NaN  "
      ]
     },
     "metadata": {},
     "output_type": "display_data"
    },
    {
     "data": {
      "text/html": [
       "<div>\n",
       "<style scoped>\n",
       "    .dataframe tbody tr th:only-of-type {\n",
       "        vertical-align: middle;\n",
       "    }\n",
       "\n",
       "    .dataframe tbody tr th {\n",
       "        vertical-align: top;\n",
       "    }\n",
       "\n",
       "    .dataframe thead th {\n",
       "        text-align: right;\n",
       "    }\n",
       "</style>\n",
       "<table border=\"1\" class=\"dataframe\">\n",
       "  <thead>\n",
       "    <tr style=\"text-align: right;\">\n",
       "      <th></th>\n",
       "      <th>time_counter</th>\n",
       "      <th>note_name</th>\n",
       "      <th>velocity</th>\n",
       "    </tr>\n",
       "  </thead>\n",
       "  <tbody>\n",
       "    <tr>\n",
       "      <th>73</th>\n",
       "      <td>49825</td>\n",
       "      <td>C</td>\n",
       "      <td>38.0</td>\n",
       "    </tr>\n",
       "    <tr>\n",
       "      <th>93</th>\n",
       "      <td>57007</td>\n",
       "      <td>E</td>\n",
       "      <td>17.0</td>\n",
       "    </tr>\n",
       "    <tr>\n",
       "      <th>104</th>\n",
       "      <td>61710</td>\n",
       "      <td>G</td>\n",
       "      <td>28.0</td>\n",
       "    </tr>\n",
       "    <tr>\n",
       "      <th>108</th>\n",
       "      <td>65704</td>\n",
       "      <td>C</td>\n",
       "      <td>38.0</td>\n",
       "    </tr>\n",
       "    <tr>\n",
       "      <th>110</th>\n",
       "      <td>68968</td>\n",
       "      <td>E</td>\n",
       "      <td>37.0</td>\n",
       "    </tr>\n",
       "  </tbody>\n",
       "</table>\n",
       "</div>"
      ],
      "text/plain": [
       "     time_counter note_name  velocity\n",
       "73          49825         C      38.0\n",
       "93          57007         E      17.0\n",
       "104         61710         G      28.0\n",
       "108         65704         C      38.0\n",
       "110         68968         E      37.0"
      ]
     },
     "metadata": {},
     "output_type": "display_data"
    },
    {
     "data": {
      "text/html": [
       "<div>\n",
       "<style scoped>\n",
       "    .dataframe tbody tr th:only-of-type {\n",
       "        vertical-align: middle;\n",
       "    }\n",
       "\n",
       "    .dataframe tbody tr th {\n",
       "        vertical-align: top;\n",
       "    }\n",
       "\n",
       "    .dataframe thead th {\n",
       "        text-align: right;\n",
       "    }\n",
       "</style>\n",
       "<table border=\"1\" class=\"dataframe\">\n",
       "  <thead>\n",
       "    <tr style=\"text-align: right;\">\n",
       "      <th></th>\n",
       "      <th>time_counter</th>\n",
       "      <th>note_name</th>\n",
       "      <th>velocity</th>\n",
       "      <th>beat</th>\n",
       "    </tr>\n",
       "  </thead>\n",
       "  <tbody>\n",
       "    <tr>\n",
       "      <th>0</th>\n",
       "      <td>49825</td>\n",
       "      <td>C</td>\n",
       "      <td>38.0</td>\n",
       "      <td>0</td>\n",
       "    </tr>\n",
       "    <tr>\n",
       "      <th>1</th>\n",
       "      <td>57007</td>\n",
       "      <td>E</td>\n",
       "      <td>17.0</td>\n",
       "      <td>1</td>\n",
       "    </tr>\n",
       "    <tr>\n",
       "      <th>2</th>\n",
       "      <td>61710</td>\n",
       "      <td>G</td>\n",
       "      <td>28.0</td>\n",
       "      <td>2</td>\n",
       "    </tr>\n",
       "    <tr>\n",
       "      <th>3</th>\n",
       "      <td>65704</td>\n",
       "      <td>C</td>\n",
       "      <td>38.0</td>\n",
       "      <td>3</td>\n",
       "    </tr>\n",
       "    <tr>\n",
       "      <th>4</th>\n",
       "      <td>68968</td>\n",
       "      <td>E</td>\n",
       "      <td>37.0</td>\n",
       "      <td>0</td>\n",
       "    </tr>\n",
       "    <tr>\n",
       "      <th>...</th>\n",
       "      <td>...</td>\n",
       "      <td>...</td>\n",
       "      <td>...</td>\n",
       "      <td>...</td>\n",
       "    </tr>\n",
       "    <tr>\n",
       "      <th>547</th>\n",
       "      <td>2175419</td>\n",
       "      <td>C</td>\n",
       "      <td>48.0</td>\n",
       "      <td>3</td>\n",
       "    </tr>\n",
       "    <tr>\n",
       "      <th>548</th>\n",
       "      <td>2175765</td>\n",
       "      <td>E</td>\n",
       "      <td>33.0</td>\n",
       "      <td>0</td>\n",
       "    </tr>\n",
       "    <tr>\n",
       "      <th>549</th>\n",
       "      <td>2176014</td>\n",
       "      <td>C</td>\n",
       "      <td>22.0</td>\n",
       "      <td>1</td>\n",
       "    </tr>\n",
       "    <tr>\n",
       "      <th>550</th>\n",
       "      <td>2176360</td>\n",
       "      <td>C</td>\n",
       "      <td>29.0</td>\n",
       "      <td>2</td>\n",
       "    </tr>\n",
       "    <tr>\n",
       "      <th>551</th>\n",
       "      <td>2176380</td>\n",
       "      <td>G</td>\n",
       "      <td>34.0</td>\n",
       "      <td>3</td>\n",
       "    </tr>\n",
       "  </tbody>\n",
       "</table>\n",
       "<p>552 rows × 4 columns</p>\n",
       "</div>"
      ],
      "text/plain": [
       "     time_counter note_name  velocity  beat\n",
       "0           49825         C      38.0     0\n",
       "1           57007         E      17.0     1\n",
       "2           61710         G      28.0     2\n",
       "3           65704         C      38.0     3\n",
       "4           68968         E      37.0     0\n",
       "..            ...       ...       ...   ...\n",
       "547       2175419         C      48.0     3\n",
       "548       2175765         E      33.0     0\n",
       "549       2176014         C      22.0     1\n",
       "550       2176360         C      29.0     2\n",
       "551       2176380         G      34.0     3\n",
       "\n",
       "[552 rows x 4 columns]"
      ]
     },
     "metadata": {},
     "output_type": "display_data"
    }
   ],
   "source": [
    "path=\"outputs/\"\n",
    "#target=\"bac-inv001-o-p1.csv\"\n",
    "target=\"bac-wtc101-p-a-p1.csv\"\n",
    "df=pd.read_csv(path+target)\n",
    "display(df[73:80])\n",
    "\n",
    "# extract note_on\n",
    "note_on=df[df['type']=='note_on'][['time_counter','note_name','velocity']]\n",
    "#note_on=note_on.reindex(index=range(len(note_on)))\n",
    "display(note_on[:5])\n",
    "\n",
    "note_on.index=range(len(df_duration))\n",
    "note_on[\"beat\"]=df_duration.index%4\n",
    "display(note_on)\n"
   ]
  },
  {
   "cell_type": "markdown",
   "id": "c40ed258-fa67-4008-87c3-3a2c37b05473",
   "metadata": {},
   "source": [
    "## get duration between notes"
   ]
  },
  {
   "cell_type": "code",
   "execution_count": 44,
   "id": "4c35ed0a-8e46-4543-a86a-a7e11642b96a",
   "metadata": {},
   "outputs": [],
   "source": [
    "# between neighboring notes\n",
    "tmp_duration=pd.DataFrame(note_on.time_counter.diff().shift(-1))\n",
    "tmp_duration=tmp_duration.rename(columns={\"time_counter\":\"duration\"})\n",
    "df_duration=pd.concat([note_on,tmp_duration], axis=1)\n",
    "df_duration[-20:]\n",
    "df_duration=df_duration[:-10] #最後の5音は和音。その直前にトリルあり。最後の10音は削除\n"
   ]
  },
  {
   "cell_type": "code",
   "execution_count": 45,
   "id": "013fb694-d637-4ceb-915c-a28a24065f9c",
   "metadata": {},
   "outputs": [],
   "source": [
    "# between notes of the same beat\n",
    "# between neighboring notes\n",
    "tmp_duration=pd.DataFrame(note_on.time_counter.diff(4).shift(-4))\n",
    "tmp_duration=tmp_duration.rename(columns={\"time_counter\":\"duration\"})\n",
    "df_duration4=pd.concat([note_on,tmp_duration], axis=1)\n",
    "df_duration4.index=range(len(df_duration4))\n",
    "df_duration4=df_duration4[:-10] #最後の5音は和音。その直前にトリルあり。最後の10音は削除\n"
   ]
  },
  {
   "cell_type": "code",
   "execution_count": 46,
   "id": "a3a4a009-789e-469a-95e7-da56811461d2",
   "metadata": {},
   "outputs": [
    {
     "name": "stdout",
     "output_type": "stream",
     "text": [
      "[between neighboring notes]\n",
      "[between measures]\n",
      "[between 0st beats]\n",
      "[between 1st beats]\n",
      "[between 2st beats]\n",
      "[between 3st beats]\n"
     ]
    },
    {
     "data": {
      "text/plain": [
       "Text(0, 0.5, 'coefficient of variation')"
      ]
     },
     "execution_count": 46,
     "metadata": {},
     "output_type": "execute_result"
    },
    {
     "data": {
      "image/png": "[encoded data removed]",
      "text/plain": [
       "<Figure size 800x300 with 2 Axes>"
      ]
     },
     "metadata": {},
     "output_type": "display_data"
    }
   ],
   "source": [
    "def get_stats(df, verbose=False):\n",
    "    mean, std = df.mean(), df.std()\n",
    "    if verbose:\n",
    "        print(\"  mean=\", mean)\n",
    "        print(\"  std=\", std)\n",
    "        print(\"  std/mean=\", std / mean)\n",
    "    return mean, std, std / mean\n",
    "\n",
    "\n",
    "print(\"[between neighboring notes]\")\n",
    "get_stats(df_duration[\"duration\"])\n",
    "\n",
    "print(\"[between measures]\")\n",
    "get_stats(df_duration4[\"duration\"])\n",
    "\n",
    "means = np.empty(4)\n",
    "stds = np.empty(4)\n",
    "cov = np.empty(4)  # coefficient of variation (std/mean)\n",
    "# df_stat=pd.DataFrame([])\n",
    "\n",
    "for i in range(4):\n",
    "    print(\"[between {}st beats]\".format(i))\n",
    "    df = df_duration4[df_duration4[\"beat\"] == i]\n",
    "    means[i], stds[i], cov[i] = get_stats(df[\"duration\"], verbose=False)\n",
    "\n",
    "fig, ax = plt.subplots(nrows=1, ncols=2, figsize=(8, 3))\n",
    "\n",
    "# sns.barplot(x=np.arange(4),y=means)\n",
    "sns.barplot(data=df_duration4, x=\"beat\", y=\"duration\", ax=ax[0])\n",
    "sns.barplot(x=np.arange(4), y=cov, ax=ax[1])\n",
    "ax[1].set_xlabel(\"beat\")\n",
    "\n",
    "ax[1].set_ylabel(\"coefficient of variation\")"
   ]
  },
  {
   "cell_type": "code",
   "execution_count": 47,
   "id": "8b4e5585-4c51-4fae-ab6c-3ecefcf42b92",
   "metadata": {},
   "outputs": [
    {
     "data": {
      "text/plain": [
       "Text(0.5, 0, 'beat')"
      ]
     },
     "execution_count": 47,
     "metadata": {},
     "output_type": "execute_result"
    },
    {
     "data": {
      "image/png": "[encoded data removed]",
      "text/plain": [
       "<Figure size 800x300 with 2 Axes>"
      ]
     },
     "metadata": {},
     "output_type": "display_data"
    }
   ],
   "source": [
    "fig, ax = plt.subplots(nrows=1, ncols=2, figsize=(8, 3))\n",
    "sns.boxplot(data=df_duration4, x=\"beat\", y=\"duration\", ax=ax[0])\n",
    "sns.boxplot(x=np.arange(4), y=cov, ax=ax[1])\n",
    "ax[1].set_xlabel(\"beat\")"
   ]
  },
  {
   "cell_type": "code",
   "execution_count": 48,
   "id": "5e34d5dd-2019-4dfe-896e-e0f9f642f476",
   "metadata": {},
   "outputs": [
    {
     "name": "stdout",
     "output_type": "stream",
     "text": [
      "Empty DataFrame\n",
      "Columns: [time_counter, note_name, velocity, beat, duration]\n",
      "Index: []\n"
     ]
    },
    {
     "data": {
      "text/html": [
       "<div>\n",
       "<style scoped>\n",
       "    .dataframe tbody tr th:only-of-type {\n",
       "        vertical-align: middle;\n",
       "    }\n",
       "\n",
       "    .dataframe tbody tr th {\n",
       "        vertical-align: top;\n",
       "    }\n",
       "\n",
       "    .dataframe thead th {\n",
       "        text-align: right;\n",
       "    }\n",
       "</style>\n",
       "<table border=\"1\" class=\"dataframe\">\n",
       "  <thead>\n",
       "    <tr style=\"text-align: right;\">\n",
       "      <th></th>\n",
       "      <th>time_counter</th>\n",
       "      <th>note_name</th>\n",
       "      <th>velocity</th>\n",
       "      <th>beat</th>\n",
       "      <th>duration</th>\n",
       "    </tr>\n",
       "  </thead>\n",
       "  <tbody>\n",
       "    <tr>\n",
       "      <th>532</th>\n",
       "      <td>2089327</td>\n",
       "      <td>B</td>\n",
       "      <td>49.0</td>\n",
       "      <td>0</td>\n",
       "      <td>19065.0</td>\n",
       "    </tr>\n",
       "    <tr>\n",
       "      <th>533</th>\n",
       "      <td>2093915</td>\n",
       "      <td>D</td>\n",
       "      <td>45.0</td>\n",
       "      <td>1</td>\n",
       "      <td>21082.0</td>\n",
       "    </tr>\n",
       "    <tr>\n",
       "      <th>534</th>\n",
       "      <td>2098810</td>\n",
       "      <td>F</td>\n",
       "      <td>59.0</td>\n",
       "      <td>2</td>\n",
       "      <td>22580.0</td>\n",
       "    </tr>\n",
       "    <tr>\n",
       "      <th>535</th>\n",
       "      <td>2104053</td>\n",
       "      <td>D</td>\n",
       "      <td>57.0</td>\n",
       "      <td>3</td>\n",
       "      <td>22271.0</td>\n",
       "    </tr>\n",
       "    <tr>\n",
       "      <th>536</th>\n",
       "      <td>2108392</td>\n",
       "      <td>B</td>\n",
       "      <td>55.0</td>\n",
       "      <td>0</td>\n",
       "      <td>22829.0</td>\n",
       "    </tr>\n",
       "    <tr>\n",
       "      <th>537</th>\n",
       "      <td>2114997</td>\n",
       "      <td>D</td>\n",
       "      <td>50.0</td>\n",
       "      <td>1</td>\n",
       "      <td>21773.0</td>\n",
       "    </tr>\n",
       "    <tr>\n",
       "      <th>538</th>\n",
       "      <td>2121390</td>\n",
       "      <td>B</td>\n",
       "      <td>43.0</td>\n",
       "      <td>2</td>\n",
       "      <td>22235.0</td>\n",
       "    </tr>\n",
       "    <tr>\n",
       "      <th>539</th>\n",
       "      <td>2126324</td>\n",
       "      <td>G</td>\n",
       "      <td>45.0</td>\n",
       "      <td>3</td>\n",
       "      <td>21582.0</td>\n",
       "    </tr>\n",
       "    <tr>\n",
       "      <th>540</th>\n",
       "      <td>2131221</td>\n",
       "      <td>B</td>\n",
       "      <td>56.0</td>\n",
       "      <td>0</td>\n",
       "      <td>18527.0</td>\n",
       "    </tr>\n",
       "    <tr>\n",
       "      <th>541</th>\n",
       "      <td>2136770</td>\n",
       "      <td>D</td>\n",
       "      <td>36.0</td>\n",
       "      <td>1</td>\n",
       "      <td>13747.0</td>\n",
       "    </tr>\n",
       "  </tbody>\n",
       "</table>\n",
       "</div>"
      ],
      "text/plain": [
       "     time_counter note_name  velocity  beat  duration\n",
       "532       2089327         B      49.0     0   19065.0\n",
       "533       2093915         D      45.0     1   21082.0\n",
       "534       2098810         F      59.0     2   22580.0\n",
       "535       2104053         D      57.0     3   22271.0\n",
       "536       2108392         B      55.0     0   22829.0\n",
       "537       2114997         D      50.0     1   21773.0\n",
       "538       2121390         B      43.0     2   22235.0\n",
       "539       2126324         G      45.0     3   21582.0\n",
       "540       2131221         B      56.0     0   18527.0\n",
       "541       2136770         D      36.0     1   13747.0"
      ]
     },
     "metadata": {},
     "output_type": "display_data"
    }
   ],
   "source": [
    "print(df_duration4[df_duration4[\"duration\"]<5000])\n",
    "display(df_duration4[-10:])"
   ]
  },
  {
   "cell_type": "markdown",
   "id": "b3bc3f1e-1cb8-40b9-a66e-c2c3005030d3",
   "metadata": {},
   "source": [
    "## colormaps\n",
    "https://seaborn.pydata.org/tutorial/color_palettes.html"
   ]
  },
  {
   "cell_type": "code",
   "execution_count": 49,
   "id": "92db5a8e-fb55-4cfd-bba0-bac3d16584d5",
   "metadata": {},
   "outputs": [
    {
     "data": {
      "image/png": "[encoded data removed]",
      "text/plain": [
       "<Figure size 160x40 with 1 Axes>"
      ]
     },
     "metadata": {},
     "output_type": "display_data"
    },
    {
     "data": {
      "image/png": "[encoded data removed]",
      "text/plain": [
       "<Figure size 160x40 with 1 Axes>"
      ]
     },
     "metadata": {},
     "output_type": "display_data"
    },
    {
     "data": {
      "image/png": "[encoded data removed]",
      "text/plain": [
       "<Figure size 160x40 with 1 Axes>"
      ]
     },
     "metadata": {},
     "output_type": "display_data"
    },
    {
     "data": {
      "image/png": "[encoded data removed]",
      "text/plain": [
       "<Figure size 160x40 with 1 Axes>"
      ]
     },
     "metadata": {},
     "output_type": "display_data"
    },
    {
     "data": {
      "image/png": "[encoded data removed]",
      "text/plain": [
       "<Figure size 160x40 with 1 Axes>"
      ]
     },
     "metadata": {},
     "output_type": "display_data"
    },
    {
     "data": {
      "image/png": "[encoded data removed]",
      "text/plain": [
       "<Figure size 160x40 with 1 Axes>"
      ]
     },
     "metadata": {},
     "output_type": "display_data"
    },
    {
     "data": {
      "image/png": "[encoded data removed]",
      "text/plain": [
       "<Figure size 160x40 with 1 Axes>"
      ]
     },
     "metadata": {},
     "output_type": "display_data"
    },
    {
     "data": {
      "image/png": "[encoded data removed]",
      "text/plain": [
       "<Figure size 160x40 with 1 Axes>"
      ]
     },
     "metadata": {},
     "output_type": "display_data"
    },
    {
     "data": {
      "image/png": "[encoded data removed]",
      "text/plain": [
       "<Figure size 160x40 with 1 Axes>"
      ]
     },
     "metadata": {},
     "output_type": "display_data"
    }
   ],
   "source": [
    "import seaborn as sns\n",
    "\n",
    "for palette in ['deep', 'muted', 'pastel', 'bright', 'dark', 'colorblind','hls', 'husl', 'Set2']:\n",
    "    sns.palplot(sns.color_palette(palette, n_colors=4),size=.4, )\n"
   ]
  },
  {
   "cell_type": "code",
   "execution_count": 50,
   "id": "ddb31c26-d617-4139-9ee7-fc880fe51dd7",
   "metadata": {},
   "outputs": [
    {
     "data": {
      "text/plain": [
       "Text(0, 0.5, 'velocity')"
      ]
     },
     "execution_count": 50,
     "metadata": {},
     "output_type": "execute_result"
    },
    {
     "data": {
      "image/png": "[encoded data removed]",
      "text/plain": [
       "<Figure size 1600x1200 with 2 Axes>"
      ]
     },
     "metadata": {},
     "output_type": "display_data"
    }
   ],
   "source": [
    "from matplotlib import pyplot as plt\n",
    "from matplotlib import cm\n",
    "from matplotlib.colors import ListedColormap, LinearSegmentedColormap\n",
    "\n",
    "# get deviation from the mean\n",
    "df_duration[\"Dduration\"]=df_duration[\"duration\"]-df_duration[\"duration\"].mean()\n",
    "df_duration[\"Dvelocity\"]=df_duration[\"velocity\"]-df_duration[\"velocity\"].mean()\n",
    "\n",
    "# set target\n",
    "target=df_duration[:64]\n",
    "\n",
    "# prepare colormap\n",
    "colors = sns.color_palette(palette, n_colors=4)\n",
    "\n",
    "# graphics\n",
    "\n",
    "sns.set_style(style=\"whitegrid\")\n",
    "fig, ax=plt.subplots(nrows=2, ncols=1, figsize=(16,12))\n",
    "\n",
    "# g1=ax[0].bar(range(len(target[\"Dduration\"])),target[\"Dduration\"])\n",
    "# g2=ax[1].bar(range(len(target[\"Dduration\"])),target[\"Dvelocity\"])\n",
    "\n",
    "g1=sns.barplot(data=target, x=\"time_counter\",y=\"Dduration\", palette=colors, ax=ax[0])\n",
    "g2=sns.barplot(data=target, x=\"time_counter\",y=\"Dvelocity\", palette=colors, ax=ax[1])\n",
    "grp=[g1,g2]\n",
    "\n",
    "notes=list(target.note_name)\n",
    "for g in grp:\n",
    "    g.set_xlabel(\"time\")\n",
    "    g.set_xticks(range(len(notes)))\n",
    "    g.set_xticklabels(notes)\n",
    "    ymin,ymax=g.get_ylim()\n",
    "    g.vlines(x=np.arange(0,len(target),4)-0.5,lw=0.5,ymin=ymin, ymax=ymax)\n",
    "\n",
    "g1.set_ylabel(\"interval\")\n",
    "g2.set_ylabel(\"velocity\")"
   ]
  },
  {
   "cell_type": "markdown",
   "id": "60147218-f33c-477b-9c76-1aff6b9cc53d",
   "metadata": {},
   "source": [
    "## interval vs velocity\n",
    "### interval[t,t+1] vs velocity[t]"
   ]
  },
  {
   "cell_type": "code",
   "execution_count": 51,
   "id": "b356d7ae-e091-47bf-b6ec-2b4b169ac792",
   "metadata": {},
   "outputs": [
    {
     "name": "stderr",
     "output_type": "stream",
     "text": [
      "/var/folders/vb/b6q3gnpn06qbf57_pwjr9jfc000136/T/ipykernel_30361/561271496.py:1: UserWarning: Ignoring `palette` because no `hue` variable has been assigned.\n",
      "  sns.scatterplot(data=target, x=\"Dduration\", y=\"Dvelocity\", palette=colors)\n"
     ]
    },
    {
     "data": {
      "text/plain": [
       "<AxesSubplot: xlabel='Dduration', ylabel='Dvelocity'>"
      ]
     },
     "execution_count": 51,
     "metadata": {},
     "output_type": "execute_result"
    },
    {
     "data": {
      "image/png": "[encoded data removed]",
      "text/plain": [
       "<Figure size 640x480 with 1 Axes>"
      ]
     },
     "metadata": {},
     "output_type": "display_data"
    }
   ],
   "source": [
    "sns.scatterplot(data=target, x=\"Dduration\", y=\"Dvelocity\", palette=colors)"
   ]
  },
  {
   "cell_type": "markdown",
   "id": "6af32109-86a9-4efb-a840-225ff9b87b34",
   "metadata": {},
   "source": [
    "### interval[t,t+1] vs velocity[t+1]"
   ]
  },
  {
   "cell_type": "code",
   "execution_count": 52,
   "id": "274a5a1b-6a60-4f2d-9459-f1b1df782d50",
   "metadata": {},
   "outputs": [
    {
     "name": "stderr",
     "output_type": "stream",
     "text": [
      "/var/folders/vb/b6q3gnpn06qbf57_pwjr9jfc000136/T/ipykernel_30361/1120865196.py:2: SettingWithCopyWarning: \n",
      "A value is trying to be set on a copy of a slice from a DataFrame.\n",
      "Try using .loc[row_indexer,col_indexer] = value instead\n",
      "\n",
      "See the caveats in the documentation: https://pandas.pydata.org/pandas-docs/stable/user_guide/indexing.html#returning-a-view-versus-a-copy\n",
      "  target2[\"Dvelocity\"]=target[\"Dvelocity\"].shift(-1)\n",
      "/var/folders/vb/b6q3gnpn06qbf57_pwjr9jfc000136/T/ipykernel_30361/1120865196.py:3: UserWarning: Ignoring `palette` because no `hue` variable has been assigned.\n",
      "  sns.scatterplot(data=target2, x=\"Dduration\", y=\"Dvelocity\", palette=colors)\n"
     ]
    },
    {
     "data": {
      "text/plain": [
       "<AxesSubplot: xlabel='Dduration', ylabel='Dvelocity'>"
      ]
     },
     "execution_count": 52,
     "metadata": {},
     "output_type": "execute_result"
    },
    {
     "data": {
      "image/png": "[encoded data removed]",
      "text/plain": [
       "<Figure size 640x480 with 1 Axes>"
      ]
     },
     "metadata": {},
     "output_type": "display_data"
    }
   ],
   "source": [
    "target2=target\n",
    "target2[\"Dvelocity\"]=target[\"Dvelocity\"].shift(-1)\n",
    "sns.scatterplot(data=target2, x=\"Dduration\", y=\"Dvelocity\", palette=colors)"
   ]
  },
  {
   "cell_type": "markdown",
   "id": "a7cdfad9-1eb7-444e-bb65-d5c8941eca8f",
   "metadata": {},
   "source": [
    "## interval between each pulse"
   ]
  },
  {
   "cell_type": "code",
   "execution_count": 10,
   "id": "9fcd80d0-9315-47c1-b774-123915141cdf",
   "metadata": {},
   "outputs": [
    {
     "name": "stdout",
     "output_type": "stream",
     "text": [
      "Help on class range in module builtins:\n",
      "\n",
      "class range(object)\n",
      " |  range(stop) -> range object\n",
      " |  range(start, stop[, step]) -> range object\n",
      " |  \n",
      " |  Return an object that produces a sequence of integers from start (inclusive)\n",
      " |  to stop (exclusive) by step.  range(i, j) produces i, i+1, i+2, ..., j-1.\n",
      " |  start defaults to 0, and stop is omitted!  range(4) produces 0, 1, 2, 3.\n",
      " |  These are exactly the valid indices for a list of 4 elements.\n",
      " |  When step is given, it specifies the increment (or decrement).\n",
      " |  \n",
      " |  Methods defined here:\n",
      " |  \n",
      " |  __bool__(self, /)\n",
      " |      self != 0\n",
      " |  \n",
      " |  __contains__(self, key, /)\n",
      " |      Return key in self.\n",
      " |  \n",
      " |  __eq__(self, value, /)\n",
      " |      Return self==value.\n",
      " |  \n",
      " |  __ge__(self, value, /)\n",
      " |      Return self>=value.\n",
      " |  \n",
      " |  __getattribute__(self, name, /)\n",
      " |      Return getattr(self, name).\n",
      " |  \n",
      " |  __getitem__(self, key, /)\n",
      " |      Return self[key].\n",
      " |  \n",
      " |  __gt__(self, value, /)\n",
      " |      Return self>value.\n",
      " |  \n",
      " |  __hash__(self, /)\n",
      " |      Return hash(self).\n",
      " |  \n",
      " |  __iter__(self, /)\n",
      " |      Implement iter(self).\n",
      " |  \n",
      " |  __le__(self, value, /)\n",
      " |      Return self<=value.\n",
      " |  \n",
      " |  __len__(self, /)\n",
      " |      Return len(self).\n",
      " |  \n",
      " |  __lt__(self, value, /)\n",
      " |      Return self<value.\n",
      " |  \n",
      " |  __ne__(self, value, /)\n",
      " |      Return self!=value.\n",
      " |  \n",
      " |  __reduce__(...)\n",
      " |      Helper for pickle.\n",
      " |  \n",
      " |  __repr__(self, /)\n",
      " |      Return repr(self).\n",
      " |  \n",
      " |  __reversed__(...)\n",
      " |      Return a reverse iterator.\n",
      " |  \n",
      " |  count(...)\n",
      " |      rangeobject.count(value) -> integer -- return number of occurrences of value\n",
      " |  \n",
      " |  index(...)\n",
      " |      rangeobject.index(value) -> integer -- return index of value.\n",
      " |      Raise ValueError if the value is not present.\n",
      " |  \n",
      " |  ----------------------------------------------------------------------\n",
      " |  Static methods defined here:\n",
      " |  \n",
      " |  __new__(*args, **kwargs) from builtins.type\n",
      " |      Create and return a new object.  See help(type) for accurate signature.\n",
      " |  \n",
      " |  ----------------------------------------------------------------------\n",
      " |  Data descriptors defined here:\n",
      " |  \n",
      " |  start\n",
      " |  \n",
      " |  step\n",
      " |  \n",
      " |  stop\n",
      "\n"
     ]
    }
   ],
   "source": [
    "help(range)"
   ]
  },
  {
   "cell_type": "code",
   "execution_count": null,
   "id": "d12fafd2-6ce1-4109-8732-a995a0a1d684",
   "metadata": {},
   "outputs": [],
   "source": []
  }
 ],
 "metadata": {
  "kernelspec": {
   "display_name": "Python 3 (ipykernel)",
   "language": "python",
   "name": "python3"
  },
  "language_info": {
   "codemirror_mode": {
    "name": "ipython",
    "version": 3
   },
   "file_extension": ".py",
   "mimetype": "text/x-python",
   "name": "python",
   "nbconvert_exporter": "python",
   "pygments_lexer": "ipython3",
   "version": "3.10.2"
  }
 },
 "nbformat": 4,
 "nbformat_minor": 5
}
