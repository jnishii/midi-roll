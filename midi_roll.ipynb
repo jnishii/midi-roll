{
 "cells": [
  {
   "cell_type": "markdown",
   "id": "8b23193e-0bea-4c59-a2a6-a9cecf3819b9",
   "metadata": {},
   "source": [
    "https://medium.com/analytics-vidhya/convert-midi-file-to-numpy-array-in-python-7d00531890c"
   ]
  },
  {
   "cell_type": "code",
   "execution_count": 1,
   "id": "e62d03b3-73bf-494a-a4cf-b0b20d1e3053",
   "metadata": {
    "tags": []
   },
   "outputs": [
    {
     "name": "stdout",
     "output_type": "stream",
     "text": [
      "MetaMessage('smpte_offset', frame_rate=30, hours=1, minutes=0, seconds=0, frames=0, sub_frames=0, time=0)\n",
      "MetaMessage('time_signature', numerator=3, denominator=4, clocks_per_click=24, notated_32nd_notes_per_beat=8, time=0)\n",
      "MetaMessage('time_signature', numerator=5, denominator=4, clocks_per_click=24, notated_32nd_notes_per_beat=8, time=0)\n",
      "MetaMessage('set_tempo', tempo=500000, time=0)\n",
      "MetaMessage('time_signature', numerator=4, denominator=4, clocks_per_click=24, notated_32nd_notes_per_beat=8, time=0)\n",
      "note_on channel=0 note=60 velocity=44 time=6936\n",
      "note_off channel=0 note=60 velocity=54 time=4839\n",
      "note_on channel=0 note=62 velocity=55 time=459\n",
      "note_on channel=0 note=64 velocity=61 time=5050\n",
      "note_off channel=0 note=62 velocity=60 time=441\n",
      "note_off channel=0 note=64 velocity=58 time=3956\n",
      "note_on channel=0 note=65 velocity=60 time=712\n",
      "note_off channel=0 note=65 velocity=62 time=4914\n",
      "note_on channel=0 note=62 velocity=59 time=115\n",
      "note_off channel=0 note=62 velocity=57 time=3476\n",
      "MetaMessage('marker', text='take2', time=1500)\n",
      "note_on channel=0 note=64 velocity=58 time=74\n",
      "note_off channel=0 note=64 velocity=61 time=4722\n",
      "note_on channel=0 note=60 velocity=59 time=250\n",
      "note_on channel=0 note=67 velocity=58 time=5434\n"
     ]
    }
   ],
   "source": [
    "import mido\n",
    "#target =\"../data/pedb2_v0.0.1.b/bac-wtc101-p-a-p1/bac-wtc101-p-a-p1.mid\"\n",
    "target =\"../data/pedb2_v0.0.1.b/bac-inv001-o-p1/bac-inv001-o-p1.mid\"\n",
    "\n",
    "mid = mido.MidiFile(target, clip=True)\n",
    "#mid.tracks\n",
    "for m in mid.tracks[0][:20]:\n",
    "    print(m)"
   ]
  },
  {
   "cell_type": "code",
   "execution_count": 2,
   "id": "9b02be3f-01ef-46cc-89e9-4aa9a477f2f6",
   "metadata": {
    "tags": []
   },
   "outputs": [],
   "source": [
    "import string\n",
    "import numpy as np\n",
    "def msg2dict(msg):\n",
    "    result = dict()\n",
    "    if 'note_on' in msg:\n",
    "        on_ = True\n",
    "    elif 'note_off' in msg:\n",
    "        on_ = False\n",
    "    else:\n",
    "        on_ = None\n",
    "    result['time'] = int(msg[msg.rfind('time'):].split(' ')[0].split('=')[1].translate(\n",
    "        str.maketrans({a: None for a in string.punctuation})))\n",
    "\n",
    "    if on_ is not None:\n",
    "        for k in ['note', 'velocity']:\n",
    "            result[k] = int(msg[msg.rfind(k):].split(' ')[0].split('=')[1].translate(\n",
    "                str.maketrans({a: None for a in string.punctuation})))\n",
    "    return [result, on_]\n",
    "\n",
    "\n",
    "def switch_note(last_state, note, velocity, on_=True):\n",
    "    # piano has 88 notes, corresponding to note id 21 to 108, any note out of this range will be ignored\n",
    "    result = [0] * 88 if last_state is None else last_state.copy()\n",
    "    if 21 <= note <= 108:\n",
    "        result[note-21] = velocity if on_ else 0\n",
    "    return result\n",
    "\n",
    "\n",
    "def get_new_state(new_msg, last_state):\n",
    "    new_msg, on_ = msg2dict(str(new_msg))\n",
    "    new_state = switch_note(last_state, note=new_msg['note'], velocity=new_msg['velocity'], on_=on_) if on_ is not None else last_state\n",
    "    return [new_state, new_msg['time']]\n",
    "\n",
    "def track2seq(track):\n",
    "    # piano has 88 notes, corresponding to note id 21 to 108, any note out of the id range will be ignored\n",
    "    result = []\n",
    "    last_state, last_time = get_new_state(str(track[0]), [0]*88)\n",
    "    for i in range(1, len(track)):\n",
    "        new_state, new_time = get_new_state(track[i], last_state)\n",
    "        if new_time > 0:\n",
    "            result += [last_state]*new_time\n",
    "        last_state, last_time = new_state, new_time\n",
    "    return result\n",
    "\n",
    "\n",
    "def mid2arry(mid, min_msg_pct=0.1):\n",
    "    tracks_len = [len(tr) for tr in mid.tracks]\n",
    "    min_n_msg = max(tracks_len) * min_msg_pct\n",
    "    # convert each track to nested list\n",
    "    all_arys = []\n",
    "    for i in range(len(mid.tracks)):\n",
    "        if len(mid.tracks[i]) > min_n_msg:\n",
    "            ary_i = track2seq(mid.tracks[i])\n",
    "            all_arys.append(ary_i)\n",
    "    # make all nested list the same length\n",
    "    max_len = max([len(ary) for ary in all_arys])\n",
    "    for i in range(len(all_arys)):\n",
    "        if len(all_arys[i]) < max_len:\n",
    "            all_arys[i] += [[0] * 88] * (max_len - len(all_arys[i]))\n",
    "    all_arys = np.array(all_arys)\n",
    "    all_arys = all_arys.max(axis=0)\n",
    "    # trim: remove consecutive 0s in the beginning and at the end\n",
    "    sums = all_arys.sum(axis=1)\n",
    "    ends = np.where(sums > 0)[0]\n",
    "    return all_arys[min(ends): max(ends)]"
   ]
  },
  {
   "cell_type": "code",
   "execution_count": 3,
   "id": "b5b7ac2d-480a-4e46-b906-bad2f4322ede",
   "metadata": {
    "tags": []
   },
   "outputs": [
    {
     "data": {
      "image/png": "[encoded data removed]",
      "text/plain": [
       "<Figure size 640x480 with 1 Axes>"
      ]
     },
     "metadata": {},
     "output_type": "display_data"
    }
   ],
   "source": [
    "result_array = mid2arry(mid)\n",
    "import matplotlib.pyplot as plt\n",
    "plt.plot(range(result_array.shape[0]), np.multiply(np.where(result_array>0, 1, 0), range(1, 89)), marker='.', markersize=1, linestyle='')\n",
    "plt.title(target)\n",
    "plt.show()"
   ]
  },
  {
   "cell_type": "code",
   "execution_count": 4,
   "id": "640c0392-c9cc-410d-bec6-a2d9532caa00",
   "metadata": {
    "tags": []
   },
   "outputs": [
    {
     "ename": "TypeError",
     "evalue": "'tuple' object is not callable",
     "output_type": "error",
     "traceback": [
      "\u001b[0;31m---------------------------------------------------------------------------\u001b[0m",
      "\u001b[0;31mTypeError\u001b[0m                                 Traceback (most recent call last)",
      "Cell \u001b[0;32mIn[4], line 1\u001b[0m\n\u001b[0;32m----> 1\u001b[0m \u001b[43mresult_array\u001b[49m\u001b[38;5;241;43m.\u001b[39;49m\u001b[43mshape\u001b[49m\u001b[43m(\u001b[49m\u001b[43m)\u001b[49m\n",
      "\u001b[0;31mTypeError\u001b[0m: 'tuple' object is not callable"
     ]
    }
   ],
   "source": [
    "result_array.shape()"
   ]
  },
  {
   "cell_type": "code",
   "execution_count": null,
   "id": "941e8812-6ffa-4e3d-bc70-a0938a187443",
   "metadata": {},
   "outputs": [],
   "source": []
  }
 ],
 "metadata": {
  "kernelspec": {
   "display_name": "Python 3 (ipykernel)",
   "language": "python",
   "name": "python3"
  },
  "language_info": {
   "codemirror_mode": {
    "name": "ipython",
    "version": 3
   },
   "file_extension": ".py",
   "mimetype": "text/x-python",
   "name": "python",
   "nbconvert_exporter": "python",
   "pygments_lexer": "ipython3",
   "version": "3.10.13"
  }
 },
 "nbformat": 4,
 "nbformat_minor": 5
}
